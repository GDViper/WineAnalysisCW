{
 "cells": [
  {
   "cell_type": "markdown",
   "metadata": {},
   "source": [
    "# Libraries"
   ]
  },
  {
   "cell_type": "code",
   "execution_count": null,
   "metadata": {},
   "outputs": [],
   "source": [
    "import pandas as pd\n",
    "import numpy as np\n",
    "import torch\n",
    "import torch.nn as nn\n",
    "import torch.optim as optim\n",
    "from torch.utils.data import Dataset, DataLoader\n",
    "from sklearn.model_selection import train_test_split\n",
    "from sklearn.preprocessing import StandardScaler\n",
    "from sklearn.metrics import classification_report, accuracy_score\n",
    "from sklearn.metrics import confusion_matrix, ConfusionMatrixDisplay\n",
    "import matplotlib.pyplot as plt"
   ]
  },
  {
   "cell_type": "markdown",
   "metadata": {},
   "source": [
    "# Import"
   ]
  },
  {
   "cell_type": "code",
   "execution_count": null,
   "metadata": {},
   "outputs": [],
   "source": [
    "df = pd.read_csv(r\"Datasets/WineQualityDuplicate.csv\")"
   ]
  },
  {
   "cell_type": "markdown",
   "metadata": {},
   "source": [
    "# Feature Seperation"
   ]
  },
  {
   "cell_type": "code",
   "execution_count": null,
   "metadata": {},
   "outputs": [],
   "source": [
    "X = df.drop(columns=['quality', 'type'])\n",
    "y = df['quality']"
   ]
  },
  {
   "cell_type": "markdown",
   "metadata": {},
   "source": [
    "# Categorization"
   ]
  },
  {
   "cell_type": "code",
   "execution_count": null,
   "metadata": {},
   "outputs": [],
   "source": [
    "y = y.astype('category')\n",
    "class_mapping = {cat: i for i, cat in enumerate(y.cat.categories)}"
   ]
  },
  {
   "cell_type": "markdown",
   "metadata": {},
   "source": [
    "# Train Test Split"
   ]
  },
  {
   "cell_type": "code",
   "execution_count": null,
   "metadata": {},
   "outputs": [],
   "source": [
    "X_train, X_test, y_train, y_test = train_test_split(X, y, test_size=0.2, random_state=42, stratify=y)"
   ]
  },
  {
   "cell_type": "markdown",
   "metadata": {},
   "source": [
    "# Scaling"
   ]
  },
  {
   "cell_type": "code",
   "execution_count": null,
   "metadata": {},
   "outputs": [],
   "source": [
    "scaler = StandardScaler()\n",
    "X_train_scaled = scaler.fit_transform(X_train)\n",
    "X_test_scaled = scaler.transform(X_test)"
   ]
  },
  {
   "cell_type": "markdown",
   "metadata": {},
   "source": [
    "# Feature and Variable Conversion"
   ]
  },
  {
   "cell_type": "code",
   "execution_count": null,
   "metadata": {},
   "outputs": [],
   "source": [
    "X_train_t = torch.tensor(X_train_scaled, dtype=torch.float32)\n",
    "X_test_t = torch.tensor(X_test_scaled, dtype=torch.float32)\n",
    "y_train_t = torch.tensor(y_train.values, dtype=torch.long)\n",
    "y_test_t = torch.tensor(y_test.values, dtype=torch.long)"
   ]
  },
  {
   "cell_type": "markdown",
   "metadata": {},
   "source": [
    "# Data Retrieval, Storage, and Instantiation"
   ]
  },
  {
   "cell_type": "code",
   "execution_count": null,
   "metadata": {},
   "outputs": [],
   "source": [
    "class WineDataset(Dataset):\n",
    "    def __init__(self, features, labels):\n",
    "        self.features = features\n",
    "        self.labels = labels\n",
    "\n",
    "    def __len__(self):\n",
    "        return len(self.labels)\n",
    "\n",
    "    def __getitem__(self, idx):\n",
    "        return self.features[idx], self.labels[idx]\n",
    "\n",
    "train_dataset = WineDataset(X_train_t, y_train_t)\n",
    "test_dataset = WineDataset(X_test_t, y_test_t)"
   ]
  },
  {
   "cell_type": "markdown",
   "metadata": {},
   "source": [
    "# Data Loading"
   ]
  },
  {
   "cell_type": "code",
   "execution_count": null,
   "metadata": {},
   "outputs": [],
   "source": [
    "train_loader = DataLoader(train_dataset, batch_size=32, shuffle=True)\n",
    "test_loader = DataLoader(test_dataset, batch_size=32, shuffle=False)"
   ]
  },
  {
   "cell_type": "markdown",
   "metadata": {},
   "source": [
    "# Deep Neural Network Class"
   ]
  },
  {
   "cell_type": "code",
   "execution_count": null,
   "metadata": {},
   "outputs": [],
   "source": [
    "class DNNClassifier(nn.Module):\n",
    "    def __init__(self, input_dim, hidden_dims, num_classes):\n",
    "        super(DNNClassifier, self).__init__()\n",
    "        layers = []\n",
    "        \n",
    "        prev_dim = input_dim\n",
    "        for h_dim in hidden_dims:\n",
    "            layers.append(nn.Linear(prev_dim, h_dim))\n",
    "            layers.append(nn.ReLU())\n",
    "            layers.append(nn.Dropout(0.2))\n",
    "            prev_dim = h_dim\n",
    "        \n",
    "        layers.append(nn.Linear(prev_dim, 9))\n",
    "        \n",
    "        self.network = nn.Sequential(*layers)\n",
    "    \n",
    "    def forward(self, x):\n",
    "        return self.network(x)"
   ]
  },
  {
   "cell_type": "markdown",
   "metadata": {},
   "source": [
    "# Model and Parameter Creation"
   ]
  },
  {
   "cell_type": "code",
   "execution_count": null,
   "metadata": {},
   "outputs": [],
   "source": [
    "input_dim = X_train_t.shape[1]\n",
    "num_classes = len(class_mapping)\n",
    "hidden_dims = [128, 64, 32]\n",
    "\n",
    "model = DNNClassifier(input_dim, hidden_dims, num_classes)"
   ]
  },
  {
   "cell_type": "markdown",
   "metadata": {},
   "source": [
    "# Loss Function, Optimizer, and Epochs"
   ]
  },
  {
   "cell_type": "code",
   "execution_count": null,
   "metadata": {},
   "outputs": [],
   "source": [
    "criterion = nn.CrossEntropyLoss()\n",
    "optimizer = optim.Adam(model.parameters(), lr=0.001)\n",
    "epochs = 500"
   ]
  },
  {
   "cell_type": "markdown",
   "metadata": {},
   "source": [
    "# Model Training"
   ]
  },
  {
   "cell_type": "code",
   "execution_count": null,
   "metadata": {},
   "outputs": [
    {
     "name": "stdout",
     "output_type": "stream",
     "text": [
      "Epoch [10/500] Loss: 1.0045\n",
      "Epoch [20/500] Loss: 0.9560\n",
      "Epoch [30/500] Loss: 0.9094\n",
      "Epoch [40/500] Loss: 0.8807\n",
      "Epoch [50/500] Loss: 0.8469\n",
      "Epoch [60/500] Loss: 0.8268\n",
      "Epoch [70/500] Loss: 0.7998\n",
      "Epoch [80/500] Loss: 0.7697\n",
      "Epoch [90/500] Loss: 0.7448\n",
      "Epoch [100/500] Loss: 0.7306\n",
      "Epoch [110/500] Loss: 0.7128\n",
      "Epoch [120/500] Loss: 0.6764\n",
      "Epoch [130/500] Loss: 0.6691\n",
      "Epoch [140/500] Loss: 0.6324\n",
      "Epoch [150/500] Loss: 0.6377\n",
      "Epoch [160/500] Loss: 0.6127\n",
      "Epoch [170/500] Loss: 0.6226\n",
      "Epoch [180/500] Loss: 0.5959\n",
      "Epoch [190/500] Loss: 0.5911\n",
      "Epoch [200/500] Loss: 0.5728\n",
      "Epoch [210/500] Loss: 0.5337\n",
      "Epoch [220/500] Loss: 0.5488\n",
      "Epoch [230/500] Loss: 0.5400\n",
      "Epoch [240/500] Loss: 0.5244\n",
      "Epoch [250/500] Loss: 0.5257\n",
      "Epoch [260/500] Loss: 0.5159\n",
      "Epoch [270/500] Loss: 0.5172\n",
      "Epoch [280/500] Loss: 0.5088\n",
      "Epoch [290/500] Loss: 0.4931\n",
      "Epoch [300/500] Loss: 0.4820\n",
      "Epoch [310/500] Loss: 0.4841\n",
      "Epoch [320/500] Loss: 0.4766\n",
      "Epoch [330/500] Loss: 0.4829\n",
      "Epoch [340/500] Loss: 0.4543\n",
      "Epoch [350/500] Loss: 0.4719\n",
      "Epoch [360/500] Loss: 0.4741\n",
      "Epoch [370/500] Loss: 0.4465\n",
      "Epoch [380/500] Loss: 0.4495\n",
      "Epoch [390/500] Loss: 0.4260\n",
      "Epoch [400/500] Loss: 0.4268\n",
      "Epoch [410/500] Loss: 0.4400\n",
      "Epoch [420/500] Loss: 0.4294\n",
      "Epoch [430/500] Loss: 0.4124\n",
      "Epoch [440/500] Loss: 0.4301\n",
      "Epoch [450/500] Loss: 0.4284\n",
      "Epoch [460/500] Loss: 0.3939\n",
      "Epoch [470/500] Loss: 0.4188\n",
      "Epoch [480/500] Loss: 0.3951\n",
      "Epoch [490/500] Loss: 0.4242\n",
      "Epoch [500/500] Loss: 0.3823\n"
     ]
    }
   ],
   "source": [
    "model.train()\n",
    "for epoch in range(epochs):\n",
    "    running_loss = 0.0\n",
    "    for inputs, labels in train_loader:\n",
    "        optimizer.zero_grad()\n",
    "        outputs = model(inputs)\n",
    "        loss = criterion(outputs, labels)\n",
    "        loss.backward()\n",
    "        optimizer.step()\n",
    "        running_loss += loss.item() * inputs.size(0)\n",
    "    \n",
    "    epoch_loss = running_loss / len(train_loader.dataset)\n",
    "    if (epoch+1) % 10 == 0:\n",
    "        print(f\"Epoch [{epoch+1}/{epochs}] Loss: {epoch_loss:.4f}\")"
   ]
  },
  {
   "cell_type": "markdown",
   "metadata": {},
   "source": [
    "# Model Batch Evaluation"
   ]
  },
  {
   "cell_type": "code",
   "execution_count": null,
   "metadata": {},
   "outputs": [],
   "source": [
    "model.eval()\n",
    "y_pred_list = []\n",
    "y_true_list = []\n",
    "\n",
    "with torch.no_grad():\n",
    "    for inputs, labels in test_loader:\n",
    "        outputs = model(inputs)\n",
    "        _, preds = torch.max(outputs, 1)\n",
    "        y_pred_list.extend(preds.numpy())\n",
    "        y_true_list.extend(labels.numpy())"
   ]
  },
  {
   "cell_type": "markdown",
   "metadata": {},
   "source": [
    "# Accuracy"
   ]
  },
  {
   "cell_type": "code",
   "execution_count": null,
   "metadata": {},
   "outputs": [],
   "source": [
    "accuracy = accuracy_score(y_true_list, y_pred_list)\n",
    "report = classification_report(y_true_list, y_pred_list)"
   ]
  },
  {
   "cell_type": "code",
   "execution_count": null,
   "metadata": {},
   "outputs": [
    {
     "name": "stdout",
     "output_type": "stream",
     "text": [
      "Test Accuracy: 0.64\n",
      "Classification Report:\n",
      "              precision    recall  f1-score   support\n",
      "\n",
      "           4       0.17      0.07      0.10        15\n",
      "           5       0.72      0.71      0.71       177\n",
      "           6       0.66      0.66      0.66       247\n",
      "           7       0.49      0.61      0.54        87\n",
      "           8       0.17      0.07      0.10        14\n",
      "\n",
      "    accuracy                           0.64       540\n",
      "   macro avg       0.44      0.42      0.42       540\n",
      "weighted avg       0.63      0.64      0.63       540\n",
      "\n"
     ]
    }
   ],
   "source": [
    "print(f\"Test Accuracy: {accuracy:.2f}\")\n",
    "print(\"Classification Report:\")\n",
    "print(report)"
   ]
  },
  {
   "cell_type": "code",
   "execution_count": null,
   "metadata": {},
   "outputs": [
    {
     "data": {
      "image/png": "[encoded data removed]",
      "text/plain": [
       "<Figure size 640x480 with 2 Axes>"
      ]
     },
     "metadata": {},
     "output_type": "display_data"
    }
   ],
   "source": [
    "cm = confusion_matrix(y_true_list, y_pred_list)\n",
    "disp = ConfusionMatrixDisplay(confusion_matrix=cm, display_labels=y.cat.categories)\n",
    "disp.plot(cmap=\"viridis\")\n",
    "plt.title(\"Confusion Matrix\")\n",
    "plt.show()"
   ]
  }
 ],
 "metadata": {
  "kernelspec": {
   "display_name": "ML",
   "language": "python",
   "name": "python3"
  },
  "language_info": {
   "codemirror_mode": {
    "name": "ipython",
    "version": 3
   },
   "file_extension": ".py",
   "mimetype": "text/x-python",
   "name": "python",
   "nbconvert_exporter": "python",
   "pygments_lexer": "ipython3",
   "version": "3.9.18"
  }
 },
 "nbformat": 4,
 "nbformat_minor": 2
}
